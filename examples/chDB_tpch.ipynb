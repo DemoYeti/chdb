{
  "nbformat": 4,
  "nbformat_minor": 0,
  "metadata": {
    "colab": {
      "provenance": []
    },
    "kernelspec": {
      "name": "python3",
      "display_name": "Python 3"
    },
    "language_info": {
      "name": "python"
    }
  },
  "cells": [
    {
      "cell_type": "code",
      "execution_count": 1,
      "metadata": {
        "id": "PvsQWhRoNKd7",
        "colab": {
          "base_uri": "https://localhost:8080/"
        },
        "outputId": "9d39f563-cf8e-42d1-d4da-c38b44e52cbe"
      },
      "outputs": [
        {
          "output_type": "stream",
          "name": "stdout",
          "text": [
            "\u001b[2K     \u001b[90m━━━━━━━━━━━━━━━━━━━━━━━━━━━━━━━━━━━━━━━━\u001b[0m \u001b[32m126.3/126.3 MB\u001b[0m \u001b[31m4.6 MB/s\u001b[0m eta \u001b[36m0:00:00\u001b[0m\n",
            "\u001b[?25hName: chdb\n",
            "Version: 1.0.0\n",
            "Summary: chDB is an in-process SQL OLAP Engine powered by ClickHouse\n",
            "Home-page: https://github.com/auxten/chdb\n",
            "Author: auxten\n",
            "Author-email: auxtenwpc@gmail.com\n",
            "License: Apache-2.0\n",
            "Location: /usr/local/lib/python3.10/dist-packages\n",
            "Requires: \n",
            "Required-by: \n"
          ]
        }
      ],
      "source": [
        "!pip install chdb --upgrade --quiet\n",
        "!pip show chdb"
      ]
    },
    {
      "cell_type": "code",
      "source": [
        "from google.colab import drive\n",
        "drive.mount('/mnt', force_remount=True)\n",
        "!ls -l /mnt/MyDrive/tpchsf0.1"
      ],
      "metadata": {
        "colab": {
          "base_uri": "https://localhost:8080/"
        },
        "id": "EwbNq_JCQJTA",
        "outputId": "bd6f558b-bb30-4459-cb66-cf766b0495a8"
      },
      "execution_count": 4,
      "outputs": [
        {
          "output_type": "stream",
          "name": "stdout",
          "text": [
            "Mounted at /mnt\n",
            "total 37990\n",
            "-rw------- 1 root root  1269475 Dec  9 15:27 customer.parquet\n",
            "-rw------- 1 root root 26361943 Dec  9 15:27 lineitem.parquet\n",
            "-rw------- 1 root root     2193 Dec  9 15:27 nation.parquet\n",
            "-rw------- 1 root root  6073297 Dec  9 15:27 orders.parquet\n",
            "-rw------- 1 root root   699744 Dec  9 15:28 part.parquet\n",
            "-rw------- 1 root root  4408800 Dec  9 15:28 partsupp.parquet\n",
            "-rw------- 1 root root     1016 Dec  9 15:28 region.parquet\n",
            "-rw------- 1 root root    83251 Dec  9 15:28 supplier.parquet\n"
          ]
        }
      ]
    }
  ]
}