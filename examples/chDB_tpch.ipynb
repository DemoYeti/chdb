{
  "cells": [
    {
      "cell_type": "code",
      "execution_count": 1,
      "metadata": {
        "colab": {
          "base_uri": "https://localhost:8080/"
        },
        "id": "PvsQWhRoNKd7",
        "outputId": "9d39f563-cf8e-42d1-d4da-c38b44e52cbe"
      },
      "outputs": [
        {
          "name": "stdout",
          "output_type": "stream",
          "text": [
            "Note: you may need to restart the kernel to use updated packages.\n",
            "Name: chdb\n",
            "Version: 1.0.1\n",
            "Summary: chDB is an in-process SQL OLAP Engine powered by ClickHouse\n",
            "Home-page: https://github.com/auxten/chdb\n",
            "Author: auxten\n",
            "Author-email: auxtenwpc@gmail.com\n",
            "License: Apache-2.0\n",
            "Location: /home/Clickhouse/.venv/lib/python3.9/site-packages\n",
            "Requires: \n",
            "Required-by: \n",
            "Note: you may need to restart the kernel to use updated packages.\n"
          ]
        }
      ],
      "source": [
        "%pip install chdb --upgrade --quiet\n",
        "%pip show chdb"
      ]
    },
    {
      "cell_type": "code",
      "execution_count": 3,
      "metadata": {
        "colab": {
          "base_uri": "https://localhost:8080/"
        },
        "id": "EwbNq_JCQJTA",
        "outputId": "bd6f558b-bb30-4459-cb66-cf766b0495a8"
      },
      "outputs": [
        {
          "name": "stdout",
          "output_type": "stream",
          "text": [
            "Note: you may need to restart the kernel to use updated packages.\n"
          ]
        },
        {
          "name": "stderr",
          "output_type": "stream",
          "text": [
            "Retrieving folder list\n"
          ]
        },
        {
          "name": "stdout",
          "output_type": "stream",
          "text": [
            "Processing file 1e4uiDpZekF60Z1qu1Vxr94-kO8HaSvju customer.parquet\n",
            "Processing file 1WXD_bHteMy82KWK96fMj0nlS_zbiFa8v lineitem.parquet\n",
            "Processing file 1hfbwUNm38zuRssX239jaC5EjcPsIJwEv nation.parquet\n",
            "Processing file 1uVfJWa1qVS8PwmwJkGU4sd4J1ODHKiSH orders.parquet\n",
            "Processing file 10caFt4cLgwxpUjA_uTGLPvN7Jc1NqPAG part.parquet\n",
            "Processing file 1sWAi4ZXJbYrCLKFFaDm7y9e0uOSqbIXO partsupp.parquet\n",
            "Processing file 13w_BWaXzyUDsCOcrAedda2VlG-QODe9a region.parquet\n",
            "Processing file 1cdaVbgCu4lHHQEobinTdCCukGBvQ31I0 supplier.parquet\n",
            "Building directory structure completed\n"
          ]
        },
        {
          "name": "stderr",
          "output_type": "stream",
          "text": [
            "Retrieving folder list completed\n",
            "Building directory structure\n",
            "Downloading...\n",
            "From: https://drive.google.com/uc?id=1e4uiDpZekF60Z1qu1Vxr94-kO8HaSvju\n",
            "To: /mnt/MyDrive/tpchsf0.1/customer.parquet\n",
            "100%|██████████| 1.27M/1.27M [00:00<00:00, 2.88MB/s]\n",
            "Downloading...\n",
            "From: https://drive.google.com/uc?id=1WXD_bHteMy82KWK96fMj0nlS_zbiFa8v\n",
            "To: /mnt/MyDrive/tpchsf0.1/lineitem.parquet\n",
            "100%|██████████| 26.4M/26.4M [00:03<00:00, 6.66MB/s]\n",
            "Downloading...\n",
            "From: https://drive.google.com/uc?id=1hfbwUNm38zuRssX239jaC5EjcPsIJwEv\n",
            "To: /mnt/MyDrive/tpchsf0.1/nation.parquet\n",
            "100%|██████████| 2.19k/2.19k [00:00<00:00, 7.44MB/s]\n",
            "Downloading...\n",
            "From: https://drive.google.com/uc?id=1uVfJWa1qVS8PwmwJkGU4sd4J1ODHKiSH\n",
            "To: /mnt/MyDrive/tpchsf0.1/orders.parquet\n",
            "100%|██████████| 6.07M/6.07M [00:01<00:00, 5.48MB/s]\n",
            "Downloading...\n",
            "From: https://drive.google.com/uc?id=10caFt4cLgwxpUjA_uTGLPvN7Jc1NqPAG\n",
            "To: /mnt/MyDrive/tpchsf0.1/part.parquet\n",
            "100%|██████████| 700k/700k [00:00<00:00, 1.90MB/s]\n",
            "Downloading...\n",
            "From: https://drive.google.com/uc?id=1sWAi4ZXJbYrCLKFFaDm7y9e0uOSqbIXO\n",
            "To: /mnt/MyDrive/tpchsf0.1/partsupp.parquet\n",
            "100%|██████████| 4.41M/4.41M [00:00<00:00, 5.02MB/s]\n",
            "Downloading...\n",
            "From: https://drive.google.com/uc?id=13w_BWaXzyUDsCOcrAedda2VlG-QODe9a\n",
            "To: /mnt/MyDrive/tpchsf0.1/region.parquet\n",
            "100%|██████████| 1.02k/1.02k [00:00<00:00, 1.55MB/s]\n",
            "Downloading...\n",
            "From: https://drive.google.com/uc?id=1cdaVbgCu4lHHQEobinTdCCukGBvQ31I0\n",
            "To: /mnt/MyDrive/tpchsf0.1/supplier.parquet\n",
            "100%|██████████| 83.3k/83.3k [00:00<00:00, 523kB/s]\n",
            "Download completed\n"
          ]
        },
        {
          "name": "stdout",
          "output_type": "stream",
          "text": [
            "total 38004\n",
            "-rw-r--r-- 1 root root  1269475 Dec 11 11:23 customer.parquet\n",
            "-rw-r--r-- 1 root root 26361943 Dec 11 11:23 lineitem.parquet\n",
            "-rw-r--r-- 1 root root     2193 Dec 11 11:23 nation.parquet\n",
            "-rw-r--r-- 1 root root  6073297 Dec 11 11:23 orders.parquet\n",
            "-rw-r--r-- 1 root root   699744 Dec 11 11:23 part.parquet\n",
            "-rw-r--r-- 1 root root  4408800 Dec 11 11:23 partsupp.parquet\n",
            "-rw-r--r-- 1 root root     1016 Dec 11 11:23 region.parquet\n",
            "-rw-r--r-- 1 root root    83251 Dec 11 11:23 supplier.parquet\n"
          ]
        }
      ],
      "source": [
        "# For Google Colab you can mount your Google Drive and access files from there\n",
        "# from google.colab import drive\n",
        "# drive.mount('/mnt', force_remount=True)\n",
        "\n",
        "# For local Jupyter Notebook just download it\n",
        "%pip install gdown --upgrade --quiet\n",
        "import os\n",
        "import gdown\n",
        "small_data_dir = \"/mnt/MyDrive/tpchsf0.1\"\n",
        "gdown.download_folder(\n",
        "    url=\"https://drive.google.com/drive/folders/16Lf5nAk8SCQoUiwOBY6LRxjhtB5egxQQ\",\n",
        "    output=small_data_dir,\n",
        "    verify=True,\n",
        ")\n",
        "!ls -l /mnt/MyDrive/tpchsf0.1"
      ]
    }
  ],
  "metadata": {
    "colab": {
      "provenance": []
    },
    "kernelspec": {
      "display_name": "Python 3",
      "name": "python3"
    },
    "language_info": {
      "codemirror_mode": {
        "name": "ipython",
        "version": 3
      },
      "file_extension": ".py",
      "mimetype": "text/x-python",
      "name": "python",
      "nbconvert_exporter": "python",
      "pygments_lexer": "ipython3",
      "version": "3.9.2"
    }
  },
  "nbformat": 4,
  "nbformat_minor": 0
}
