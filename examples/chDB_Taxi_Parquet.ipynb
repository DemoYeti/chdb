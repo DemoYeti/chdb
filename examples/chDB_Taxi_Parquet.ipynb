{
  "nbformat": 4,
  "nbformat_minor": 0,
  "metadata": {
    "colab": {
      "provenance": []
    },
    "kernelspec": {
      "name": "python3",
      "display_name": "Python 3"
    },
    "language_info": {
      "name": "python"
    }
  },
  "cells": [
    {
      "cell_type": "markdown",
      "source": [
        "<img src=\"https://github.com/chdb-io/chdb/raw/pybind/docs/_static/snake-chdb.png\" height=100><img src=\"https://assets.stickpng.com/images/5a6f11feab538104d4a30e80.png\" height=60>\n",
        "\n",
        "# chDB\n",
        "\n",
        "chDB / ClickHouse Taxi parquet demo on Google Colab\n"
      ],
      "metadata": {
        "id": "uC0Mx0O-B7f5"
      }
    },
    {
      "cell_type": "code",
      "execution_count": null,
      "metadata": {
        "id": "GoPM4RDYA5ae"
      },
      "outputs": [],
      "source": [
        "!pip install chdb --pre --upgrade\n",
        "\n",
        "!mkdir -p taxi\n",
        "!wget https://github.com/cwida/duckdb-data/releases/download/v1.0/taxi_2019_04.parquet -O taxi/201904.parquet\n",
        "!wget https://github.com/cwida/duckdb-data/releases/download/v1.0/taxi_2019_05.parquet -O taxi/201905.parquet\n",
        "!wget https://github.com/cwida/duckdb-data/releases/download/v1.0/taxi_2019_06.parquet -O taxi/201906.parquet"
      ]
    },
    {
      "cell_type": "code",
      "source": [
        "%%time\n",
        "import chdb\n",
        "chdb.query('SELECT * FROM file(\"taxi/*.parquet\", Parquet) LIMIT 5', 'Dataframe');"
      ],
      "metadata": {
        "id": "lx4LX4FoA-dw"
      },
      "execution_count": null,
      "outputs": []
    },
    {
      "cell_type": "code",
      "source": [
        "%%time\n",
        "# chDB\n",
        "chdb.query(\"SELECT count(*) FROM file('taxi/*.parquet', Parquet)  WHERE pickup_at > '2019-06-30'\", 'Dataframe');"
      ],
      "metadata": {
        "id": "7uOHA7lcBwe0"
      },
      "execution_count": null,
      "outputs": []
    },
    {
      "cell_type": "code",
      "source": [
        "# chDB\n",
        "\n",
        "import altair as alt\n",
        "import chdb\n",
        "\n",
        "data = chdb.query('SELECT toDate(pickup_at) as date, passenger_count FROM file(\"taxi/*.parquet\", Parquet) LIMIT 5', 'Dataframe');\n",
        "\n",
        "data\n",
        "#alt.Chart(data)"
      ],
      "metadata": {
        "id": "KqUMxpIQCIaE"
      },
      "execution_count": null,
      "outputs": []
    }
  ]
}