{
 "cells": [
  {
   "cell_type": "code",
   "execution_count": 64,
   "metadata": {},
   "outputs": [
    {
     "name": "stdout",
     "output_type": "stream",
     "text": [
      "\n",
      "\u001b[1m[\u001b[0m\u001b[34;49mnotice\u001b[0m\u001b[1;39;49m]\u001b[0m\u001b[39;49m A new release of pip is available: \u001b[0m\u001b[31;49m23.2.1\u001b[0m\u001b[39;49m -> \u001b[0m\u001b[32;49m23.3.1\u001b[0m\n",
      "\u001b[1m[\u001b[0m\u001b[34;49mnotice\u001b[0m\u001b[1;39;49m]\u001b[0m\u001b[39;49m To update, run: \u001b[0m\u001b[32;49mpip3.11 install --upgrade pip\u001b[0m\n",
      "Note: you may need to restart the kernel to use updated packages.\n"
     ]
    }
   ],
   "source": [
    "%pip install --upgrade --quiet tensorflow-cpu chdb pandas"
   ]
  },
  {
   "cell_type": "code",
   "execution_count": 65,
   "metadata": {},
   "outputs": [
    {
     "name": "stdout",
     "output_type": "stream",
     "text": [
      "total 2259160\n",
      "-rw-r--r--  1 auxten  staff      10460 Dec 10 18:09 README.txt\n",
      "-rw-r--r--  1 auxten  staff  435164157 Dec 10 18:09 genome-scores.csv\n",
      "-rw-r--r--  1 auxten  staff      18103 Dec 10 18:09 genome-tags.csv\n",
      "-rw-r--r--  1 auxten  staff    1368578 Dec 10 18:09 links.csv\n",
      "-rw-r--r--  1 auxten  staff    3038099 Dec 10 18:09 movies.csv\n",
      "-rw-r--r--  1 auxten  staff  678260987 Dec 10 18:09 ratings.csv\n",
      "-rw-r--r--  1 auxten  staff   38810332 Dec 10 18:09 tags.csv\n"
     ]
    }
   ],
   "source": [
    "import pandas as pd\n",
    "import zipfile\n",
    "import urllib.request\n",
    "import os\n",
    "import chdb\n",
    "from chdb import session\n",
    "\n",
    "# Download and extract the dataset\n",
    "if not os.path.exists(\"ml-25m/ratings.csv\"):\n",
    "    url = \"https://files.grouplens.org/datasets/movielens/ml-25m.zip\"\n",
    "    import ssl\n",
    "    ssl._create_default_https_context = ssl._create_unverified_context\n",
    "    filehandle, _ = urllib.request.urlretrieve(url)\n",
    "    zip_file_object = zipfile.ZipFile(filehandle, \"r\")\n",
    "    zip_file_object.extractall()\n",
    "\n",
    "!ls -l ml-25m"
   ]
  },
  {
   "cell_type": "code",
   "execution_count": 66,
   "metadata": {},
   "outputs": [
    {
     "name": "stdout",
     "output_type": "stream",
     "text": [
      "1,296,5,1147880044\n",
      "1,306,3.5,1147868817\n",
      "1,307,5,1147868828\n",
      "1,665,5,1147878820\n",
      "1,899,3.5,1147868510\n",
      "\n"
     ]
    }
   ],
   "source": [
    "# Peek at the data\n",
    "print(chdb.query(\"SELECT * FROM file('ml-25m/ratings.csv') LIMIT 5\"))"
   ]
  },
  {
   "cell_type": "markdown",
   "metadata": {},
   "source": [
    "## Create views for the tables of movieLens dataset"
   ]
  },
  {
   "cell_type": "code",
   "execution_count": 74,
   "metadata": {},
   "outputs": [
    {
     "name": "stdout",
     "output_type": "stream",
     "text": [
      "\"movieId\",\"title\",\"genres\"\n",
      "1,\"Toy Story (1995)\",\"Adventure|Animation|Children|Comedy|Fantasy\"\n",
      "2,\"Jumanji (1995)\",\"Adventure|Children|Fantasy\"\n",
      "3,\"Grumpier Old Men (1995)\",\"Comedy|Romance\"\n",
      "4,\"Waiting to Exhale (1995)\",\"Comedy|Drama|Romance\"\n",
      "5,\"Father of the Bride Part II (1995)\",\"Comedy\"\n",
      "\n",
      "\"userId\",\"movieId\",\"rating\",\"timestamp\"\n",
      "1,296,5,1147880044\n",
      "1,306,3.5,1147868817\n",
      "1,307,5,1147868828\n",
      "1,665,5,1147878820\n",
      "1,899,3.5,1147868510\n",
      "\n",
      "\"userId\",\"movieId\",\"tag\",\"timestamp\"\n",
      "3,260,\"classic\",1439472355\n",
      "3,260,\"sci-fi\",1439472256\n",
      "4,1732,\"dark comedy\",1573943598\n",
      "4,1732,\"great dialogue\",1573943604\n",
      "4,7569,\"so bad it's good\",1573943455\n",
      "\n"
     ]
    }
   ],
   "source": [
    "# Create tables for the tables of movieLens dataset\n",
    "chs = session.Session()\n",
    "chs.query(\"CREATE DATABASE IF NOT EXISTS movielens ENGINE = Atomic\")\n",
    "chs.query(\"USE movielens\")\n",
    "chs.query(\n",
    "    \"CREATE VIEW movies AS SELECT movieId, title, genres FROM file('ml-25m/movies.csv')\"\n",
    ")\n",
    "chs.query(\n",
    "    \"CREATE VIEW ratings AS SELECT userId, movieId, rating, timestamp FROM file('ml-25m/ratings.csv')\"\n",
    ")\n",
    "chs.query(\n",
    "    \"CREATE VIEW tags AS SELECT userId, movieId, tag, timestamp FROM file('ml-25m/tags.csv')\"\n",
    ")\n",
    "print(chs.query(\"SELECT * FROM movies LIMIT 5\", \"CSVWithNames\"))\n",
    "print(chs.query(\"SELECT * FROM ratings LIMIT 5\", \"CSVWithNames\"))\n",
    "print(chs.query(\"SELECT * FROM tags LIMIT 5\", \"CSVWithNames\"))"
   ]
  },
  {
   "cell_type": "markdown",
   "metadata": {},
   "source": [
    "## Create a view to join the movies/ratings"
   ]
  },
  {
   "cell_type": "code",
   "execution_count": 90,
   "metadata": {},
   "outputs": [
    {
     "name": "stdout",
     "output_type": "stream",
     "text": [
      "\"userId\",\"movieId\",\"title\",\"genres\",\"liked\"\n",
      "1,296,\"Pulp Fiction (1994)\",\"Comedy|Crime|Drama|Thriller\",1\n",
      "1,306,\"Three Colors: Red (Trois couleurs: Rouge) (1994)\",\"Drama\",0\n",
      "1,307,\"Three Colors: Blue (Trois couleurs: Bleu) (1993)\",\"Drama\",1\n",
      "1,665,\"Underground (1995)\",\"Comedy|Drama|War\",1\n",
      "1,899,\"Singin' in the Rain (1952)\",\"Comedy|Musical|Romance\",0\n",
      "\n",
      "Training rows: 19994500\n",
      "\n",
      "Test rows: 5005595\n",
      "\n"
     ]
    }
   ],
   "source": [
    "# Create a view to join the movies/ratings, if user rating >3.5 to a movie then 1(like) else 0(dislike)\n",
    "chs.query(\n",
    "    \"\"\"\n",
    "    CREATE OR REPLACE VIEW user_ratings AS\n",
    "        SELECT ratings.userId userId, ratings.movieId movieId, movies.title title, genres,\n",
    "            CASE WHEN rating > 3.5 THEN 1 ELSE 0 END AS liked\n",
    "        FROM ratings\n",
    "        JOIN movies USING movieId\n",
    "    \"\"\"\n",
    ")\n",
    "# Peek at the data\n",
    "print(chs.query(\"SELECT * FROM user_ratings LIMIT 5\", \"CSVWithNames\"))\n",
    "\n",
    "# Split the data into train and test with userId\n",
    "chs.query(\n",
    "    \"\"\"\n",
    "    CREATE OR REPLACE VIEW train AS\n",
    "        SELECT userId, movieId, liked\n",
    "        FROM user_ratings\n",
    "        WHERE userId % 10 < 8;\n",
    "    CREATE OR REPLACE VIEW test AS\n",
    "        SELECT userId, movieId, liked\n",
    "        FROM user_ratings\n",
    "        WHERE userId % 10 >= 8;\n",
    "    \"\"\"\n",
    ")\n",
    "# Count the number of rows in train and test\n",
    "print(\"Training rows:\", chs.query(\"SELECT COUNT(*) FROM train\"))\n",
    "print(\"Test rows:\", chs.query(\"SELECT COUNT(*) FROM test\"))"
   ]
  },
  {
   "cell_type": "markdown",
   "metadata": {},
   "source": [
    "## Train a DNN model to predict if a user will like a movie or not"
   ]
  },
  {
   "cell_type": "code",
   "execution_count": null,
   "metadata": {},
   "outputs": [],
   "source": [
    "import tensorflow as tf\n",
    "from sklearn.metrics import mean_squared_error\n",
    "from sklearn.model_selection import train_test_split\n",
    "import numpy as np\n",
    "\n",
    "# Load the data\n",
    "data = chs.query(\n",
    "    \"SELECT userId, movieId, liked, title, genres FROM train\", \"CSVWithNames\"\n",
    ")\n",
    "data = np.array(data[1:], dtype=np.float32)\n",
    "\n",
    "# Split the data into features and labels\n",
    "X = data[:, :-1]\n",
    "y = data[:, -1]\n",
    "\n",
    "# Split the data into training and validation sets\n",
    "X_train, X_val, y_train, y_val = train_test_split(X, y, test_size=0.2, random_state=42)\n",
    "\n",
    "# Split the movie title to extract the shooting year as a feature\n",
    "title_years = np.array(\n",
    "    [int(title.split(\"(\")[-1].split(\")\")[0]) for title in X_train[:, 3]]\n",
    ")\n",
    "X_train = np.concatenate((X_train, title_years[:, np.newaxis]), axis=1)\n",
    "\n",
    "# Split the genres by \"|\" to make the genre as a sparse feature\n",
    "genres_sparse = np.array([genre.split(\"|\") for genre in X_train[:, 4]])\n",
    "X_train = np.concatenate((X_train, genres_sparse), axis=1)\n",
    "\n",
    "# Define the model architecture\n",
    "model = tf.keras.Sequential(\n",
    "    [\n",
    "        tf.keras.layers.Dense(64, activation=\"relu\"),\n",
    "        tf.keras.layers.Dense(32, activation=\"relu\"),\n",
    "        tf.keras.layers.Dense(1),\n",
    "    ]\n",
    ")\n",
    "\n",
    "# Compile the model\n",
    "model.compile(optimizer=\"adam\", loss=\"mse\")\n",
    "\n",
    "# Train the model\n",
    "history = model.fit(\n",
    "    X_train, y_train, validation_data=(X_val, y_val), epochs=10, batch_size=32\n",
    ")\n",
    "\n",
    "# Evaluate the model\n",
    "X_val_title_years = np.array(\n",
    "    [int(title.split(\"(\")[-1].split(\")\")[0]) for title in X_val[:, 3]]\n",
    ")\n",
    "X_val_genres_sparse = np.array([genre.split(\"|\") for genre in X_val[:, 4]])\n",
    "X_val = np.concatenate(\n",
    "    (X_val, X_val_title_years[:, np.newaxis], X_val_genres_sparse), axis=1\n",
    ")\n",
    "\n",
    "y_pred = model.predict(X_val)\n",
    "rmse = np.sqrt(mean_squared_error(y_val, y_pred))\n",
    "print(\"RMSE:\", rmse)"
   ]
  }
 ],
 "metadata": {
  "kernelspec": {
   "display_name": "Python 3",
   "language": "python",
   "name": "python3"
  },
  "language_info": {
   "codemirror_mode": {
    "name": "ipython",
    "version": 3
   },
   "file_extension": ".py",
   "mimetype": "text/x-python",
   "name": "python",
   "nbconvert_exporter": "python",
   "pygments_lexer": "ipython3",
   "version": "3.11.3"
  }
 },
 "nbformat": 4,
 "nbformat_minor": 2
}
